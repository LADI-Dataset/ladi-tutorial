{
 "cells": [
  {
   "cell_type": "code",
   "execution_count": 1,
   "metadata": {},
   "outputs": [],
   "source": [
    "from geopandas import GeoDataFrame, GeoSeries\n",
    "from shapely.geometry import Point, Polygon, MultiPolygon\n",
    "from pyproj import CRS\n",
    "import matplotlib.pyplot as plt\n",
    "import contextily as ctx\n",
    "import geopandas as gpd\n",
    "import pandas as pd\n",
    "import pyproj\n",
    "import fiona\n",
    "import boto3"
   ]
  },
  {
   "cell_type": "code",
   "execution_count": 3,
   "metadata": {},
   "outputs": [],
   "source": [
    "# https://catalog.data.gov/dataset/tiger-line-shapefile-2017-nation-u-s-current-state-and-equivalent-national\n",
    "states = gpd.read_file('C:/Users/ryane/Documents/Github/Flood-Analysis/data/Census-State/tl_2017_us_state.shp')\n",
    "states.crs = fiona.crs.from_epsg(4326)\n",
    "# https://ais-faa.opendata.arcgis.com/datasets/e747ab91a11045e8b3f8a3efd093d3b5_0\n",
    "airports = gpd.read_file('C:/Users/ryane/Documents/Github/Flood-Analysis/data/FAA-Airports/Airports.shp')\n",
    "airports.crs = fiona.crs.from_epsg(4326)\n",
    "# https://catalog.data.gov/dataset/tiger-line-shapefile-2019-nation-u-s-current-metropolitan-statistical-area-micropolitan-statist\n",
    "us_cbsa = gpd.read_file('C:/Users/ryane/Documents/Github/Flood-Analysis/data/Census-CBSA/tl_2019_us_cbsa.shp')\n",
    "us_cbsa.crs = fiona.crs.from_epsg(4326)\n",
    "# http://www2.census.gov/programs-surveys/ahs/2017/AHS%202017%20National%20PUF%20v3.0%20Flat%20CSV.zip?#\n",
    "ahs_data = pd.read_csv('C:/Users/ryane/Documents/Github/Flood-Analysis/data/Census-AHS/ahs2017n.csv', usecols=['OMB13CBSA', 'DPFLDINS'])"
   ]
  },
  {
   "cell_type": "code",
   "execution_count": null,
   "metadata": {},
   "outputs": [],
   "source": [
    "def meters_to_degrees(distance_meters):\n",
    "    #https://sciencing.com/convert-distances-degrees-meters-7858322.html (111,139)\n",
    "    distance_degrees = (distance_meters / 111194.926644559) # number derived from matlab calculations\n",
    "    return distance_degrees"
   ]
  },
  {
   "cell_type": "code",
   "execution_count": null,
   "metadata": {},
   "outputs": [],
   "source": [
    "def df_to_gdf(df, what_on):\n",
    "    \n",
    "    merged_df = df.merge(image_metadata_gdf, on=what_on)\n",
    "    clean_df = merged_df.dropna()\n",
    "    gdf = GeoDataFrame(clean_df, crs=fiona.crs.from_epsg(4326))\n",
    "    \n",
    "    return gdf"
   ]
  },
  {
   "cell_type": "code",
   "execution_count": null,
   "metadata": {},
   "outputs": [],
   "source": [
    "def label_join(label):\n",
    "    label_by_state = gpd.sjoin(label, states, op='within')\n",
    "    label_by_state = label_by_state.drop(columns=['index_right'])\n",
    "    \n",
    "    return(label_by_state)"
   ]
  },
  {
   "cell_type": "code",
   "execution_count": null,
   "metadata": {},
   "outputs": [],
   "source": [
    "def images_per_cbsa(label, cbsa):\n",
    "    image_counter = {}\n",
    "\n",
    "    images_within_cbsa = gpd.sjoin(label, cbsa, how='left', op='within')\n",
    "    images = images_within_cbsa.NAMELSAD.tolist()\n",
    "\n",
    "    for i in images:\n",
    "        if i not in image_counter:\n",
    "            image_counter[i] = images.count(i)\n",
    "\n",
    "    image_counter = pd.DataFrame.from_dict(image_counter, orient='index')\n",
    "    \n",
    "    \n",
    "    return image_counter"
   ]
  },
  {
   "cell_type": "code",
   "execution_count": null,
   "metadata": {},
   "outputs": [],
   "source": [
    "def get_column_values(dataset_name, dataset_column):    \n",
    "    column_dictionary_counter = {} \n",
    "    values = dataset_name[dataset_column].tolist()\n",
    "    for i in values:\n",
    "        #i = i.strip(\"''\")\n",
    "        if i not in column_dictionary_counter:\n",
    "            column_dictionary_counter[i] = values.count(i)\n",
    "            \n",
    "    return(column_dictionary_counter)"
   ]
  },
  {
   "cell_type": "code",
   "execution_count": null,
   "metadata": {},
   "outputs": [],
   "source": [
    "def months_with_images(state_abbreviation, label, year):\n",
    "    images_by_state = label_join(label)\n",
    "\n",
    "    state_images = images_by_state[images_by_state.STUSPS == state_abbreviation]\n",
    "    state_images_timestamp = state_images[state_images['timestamp'].str.contains(year, na=False, case=True)]\n",
    "    \n",
    "\n",
    "    stamps = {}\n",
    "    for i in range(len(state_images_timestamp.timestamp)):\n",
    "        stamp = pd.Timestamp(state_images_timestamp.timestamp.iloc[i])\n",
    "        if stamp.month_name() not in stamps:\n",
    "            state_images_per_month = 0\n",
    "            \n",
    "            for j in range(len(state_images_timestamp.timestamp)):\n",
    "                stamp_count = pd.Timestamp(state_images_timestamp.timestamp.iloc[j])\n",
    "                if stamp.month_name() == stamp_count.month_name():\n",
    "                    state_images_per_month += 1\n",
    "                stamps[stamp.month_name()] = state_images_per_month\n",
    "    return(print(stamps))"
   ]
  },
  {
   "cell_type": "code",
   "execution_count": null,
   "metadata": {},
   "outputs": [],
   "source": [
    "def flood_insurance_by_cbsa(cbsa_values):\n",
    "    has_flood_insurance = [\"'2'\", \"'1'\", \"'3'\"]\n",
    "    cbsa_dict = {}\n",
    "    percent_with_fldins = {}\n",
    "\n",
    "    for i in cbsa_values.keys():\n",
    "        temp_lst = []\n",
    "        for idx in range(len(ahs_data.OMB13CBSA)):\n",
    "            if i == ahs_data.OMB13CBSA.loc[idx]:\n",
    "                temp_lst.append(ahs_data.DPFLDINS.loc[idx])\n",
    "        cbsa_dict[i] = temp_lst\n",
    "\n",
    "    for i in cbsa_dict.keys():\n",
    "        temp = 0\n",
    "        values = cbsa_dict.get(i)\n",
    "        for idx in has_flood_insurance:\n",
    "            x = values.count(idx)\n",
    "            temp += x\n",
    "        percent_with_fldins[i] = temp/cbsa_values.get(i)       \n",
    "        \n",
    "    return(cbsa_dict, percent_with_fldins)"
   ]
  },
  {
   "cell_type": "markdown",
   "metadata": {},
   "source": [
    "## Now we can read in the LADI images metadata from it's Amazon S3 bucket:"
   ]
  },
  {
   "cell_type": "code",
   "execution_count": null,
   "metadata": {},
   "outputs": [],
   "source": [
    "bucket_name = 'ladi'\n",
    "file_1_path = 'Labels/ladi_images_metadata.csv'\n",
    "client = boto3.client('s3')"
   ]
  },
  {
   "cell_type": "code",
   "execution_count": null,
   "metadata": {},
   "outputs": [],
   "source": [
    "obj_1 = client.get_object(Bucket = bucket_name, Key = file_1_path)\n",
    "\n",
    "image_metadata = pd.read_csv(obj_1['Body'])\n",
    "image_metadata_renamed = image_metadata.rename(columns={\"uuid\": \"image_uuid\"})\n",
    "image_metadata_clean = image_metadata_renamed.dropna()\n",
    "\n",
    "latitude = image_metadata_clean['gps_lat'].tolist() \n",
    "longitude = image_metadata_clean['gps_lon'].tolist()\n",
    "\n",
    "image_metadata_gdf = GeoDataFrame(image_metadata_clean, crs=fiona.crs.from_epsg(4326), geometry=gpd.points_from_xy(longitude, latitude))\n"
   ]
  },
  {
   "cell_type": "code",
   "execution_count": null,
   "metadata": {},
   "outputs": [],
   "source": [
    "image_metadata_gdf"
   ]
  },
  {
   "cell_type": "markdown",
   "metadata": {},
   "source": [
    "## Now we can read in the LADI human labels specifically those labeled 'damage' or 'flood':"
   ]
  },
  {
   "cell_type": "code",
   "execution_count": null,
   "metadata": {},
   "outputs": [],
   "source": [
    "#################### CLEAN AND VALIDATE LADI HUMAN LABELS #########################\n",
    "human_label_filepath = \"Labels/ladi_aggregated_responses_url.tsv\"\n",
    "obj_2 = client.get_object(Bucket = bucket_name, Key = human_label_filepath)\n",
    "human_label_file = pd.read_csv(obj_2['Body'],sep = '\\t' )\n",
    "\n",
    "#STRIP OFF BRACKET AND COMMA FROM THE ANSWER CATEGORY\n",
    "human_label_file[\"Answer\"] = human_label_file[\"Answer\"].str.strip('[|]')\n",
    "human_label_file[\"Answer\"] = human_label_file[\"Answer\"].str.split(\",\",expand = True)\n",
    "\n",
    "#EXTRACT LABELS WITH DAMAGE AND INFRASTRUCTURE CATEGORIES AND REMOVE THOSE LABELED 'NONE'\n",
    "label_damage_infra = human_label_file[human_label_file['Answer'].str.contains('damage|infrastructure',na=False,case=False)]\n",
    "label_clean = label_damage_infra[~label_damage_infra['Answer'].str.contains('none',na=False,case=False)]\n",
    "human_flood_label = label_clean[label_clean['Answer'].str.contains('flood',na=False,case=False)]\n",
    "human_damage_label = label_clean[label_clean['Answer'].str.contains('damage',na=False,case=False)]"
   ]
  },
  {
   "cell_type": "code",
   "execution_count": null,
   "metadata": {},
   "outputs": [],
   "source": [
    "human_damage_label"
   ]
  },
  {
   "cell_type": "code",
   "execution_count": null,
   "metadata": {},
   "outputs": [],
   "source": [
    "human_labeled_damage = df_to_gdf(human_damage_label, 'url')"
   ]
  },
  {
   "cell_type": "code",
   "execution_count": null,
   "metadata": {},
   "outputs": [],
   "source": [
    "print(len(human_labeled_damage))"
   ]
  },
  {
   "cell_type": "code",
   "execution_count": null,
   "metadata": {},
   "outputs": [],
   "source": [
    "print(len(human_flood_label))"
   ]
  },
  {
   "cell_type": "code",
   "execution_count": null,
   "metadata": {},
   "outputs": [],
   "source": [
    "human_labeled_floods = df_to_gdf(human_flood_label, 'url')"
   ]
  },
  {
   "cell_type": "code",
   "execution_count": null,
   "metadata": {},
   "outputs": [],
   "source": [
    "human_labeled_floods.columns"
   ]
  },
  {
   "cell_type": "code",
   "execution_count": null,
   "metadata": {},
   "outputs": [],
   "source": [
    "print(len(human_labeled_floods))"
   ]
  },
  {
   "cell_type": "markdown",
   "metadata": {},
   "source": [
    "## Below is the code to read in the Ladi machine labels:"
   ]
  },
  {
   "cell_type": "markdown",
   "metadata": {},
   "source": [
    "#################### CLEAN AND VALIDATE LADI MACHINE LABELS #########################\n",
    "\n",
    "machine_label_filepath = \"Labels/ladi_machine_labels.csv\"\n",
    "obj_3 = client.get_object(Bucket = bucket_name, Key = machine_label_filepath)\n",
    "machine_flood_label = pd.read_csv(obj_3['Body'], usecols=['image_uuid', 'label_text'])\n",
    "machine_flood_label_clean = machine_flood_label[machine_flood_label['label_text'].str.contains('flood', na=False,case=False)]"
   ]
  },
  {
   "cell_type": "markdown",
   "metadata": {},
   "source": [
    "machine_labeled_floods = df_to_gdf(machine_flood_label_clean, 'image_uuid')"
   ]
  },
  {
   "cell_type": "markdown",
   "metadata": {},
   "source": [
    "print(len(machine_labeled_floods))"
   ]
  },
  {
   "cell_type": "markdown",
   "metadata": {},
   "source": [
    "lst = []\n",
    "for i in machine_labeled_floods.timestamp:\n",
    "    if timestamp.str.contains('2019'):\n",
    "        lst.append(i)\n",
    "print(len(lst))"
   ]
  },
  {
   "cell_type": "markdown",
   "metadata": {},
   "source": [
    "## Now we can draw a circle around each of the airports at a given radius from the center changing the geometric Points to Polygons:"
   ]
  },
  {
   "cell_type": "code",
   "execution_count": null,
   "metadata": {},
   "outputs": [],
   "source": [
    "airports.geometry"
   ]
  },
  {
   "cell_type": "code",
   "execution_count": null,
   "metadata": {},
   "outputs": [],
   "source": [
    "airports.geometry = airports.geometry.buffer(meters_to_degrees(8046.72)) #equal to 5 miles in meters\n",
    "airports.geometry"
   ]
  },
  {
   "cell_type": "markdown",
   "metadata": {},
   "source": [
    "## Now we filter out images based on state, the year they were taken and the label dataset:"
   ]
  },
  {
   "cell_type": "code",
   "execution_count": null,
   "metadata": {},
   "outputs": [],
   "source": [
    "def airports_in_range(state_abbreviation, label, year):\n",
    "    \n",
    "    images_by_state = label_join(label)\n",
    "    airports_by_state = label_join(airports)\n",
    "    \n",
    "    state_images = images_by_state[images_by_state.STUSPS == state_abbreviation]\n",
    "    state_images_timestamp = state_images[state_images['timestamp'].str.contains(year, na=False, case=True)]\n",
    "    \n",
    "    cbsa_by_state = label_join(us_cbsa)\n",
    "    state_cbsa = cbsa_by_state[cbsa_by_state['STUSPS'].str.contains(state_abbreviation, na=False, case=True)]\n",
    "    \n",
    "    num_images_per_cbsa = images_per_cbsa(state_images_timestamp, state_cbsa)\n",
    "    count = len(state_images_timestamp)\n",
    "    \n",
    "    column_values = get_column_values(ahs_data, 'OMB13CBSA')\n",
    "    temp = flood_insurance_by_cbsa(column_values)\n",
    "    \n",
    "    percent_with_fldins = temp[1]\n",
    "    \n",
    "    return(airports_within_range, images_within_range, state_images_timestamp, state_cbsa, count, num_images_per_cbsa, percent_with_fldins, stamps)"
   ]
  },
  {
   "cell_type": "code",
   "execution_count": null,
   "metadata": {},
   "outputs": [],
   "source": [
    "def state_plotter(state_abbreviation, label, year, conditional): # if the conditional is set to True it will plot images only within range of atleast one of the airports):\n",
    "    if conditional is True:\n",
    "        \n",
    "        images_by_state = label_join(label)\n",
    "        airports_by_state = label_join(airports) \n",
    "        \n",
    "        ax = states[states.STUSPS == state_abbreviation].plot(figsize=(10,10), alpha = .3, edgecolor = 'k')\n",
    "        state_airports = airports_by_state[airports_by_state.STUSPS == state_abbreviation]\n",
    "        \n",
    "        state_images = images_by_state[images_by_state.STUSPS == state_abbreviation]\n",
    "        state_images_timestamp = state_images[state_images['timestamp'].str.contains(year, na=False, case=True)]\n",
    "        \n",
    "        images_within_range = gpd.sjoin(state_images_timestamp, state_airports, op='within')\n",
    "        images_within_range = images_within_range.drop(columns=['index_right'])\n",
    "        images_within_range.plot(ax=ax, marker='.', markersize = 5, color='red', zorder=3)\n",
    "        airports_within_range = gpd.sjoin(state_airports, state_images_timestamp, op='contains')\n",
    "        #airports_within_range.plot(ax=ax, color='black', alpha=.5, zorder=2)\n",
    "        \n",
    "        cbsa_by_state = label_join(us_cbsa)\n",
    "        state_cbsa = cbsa_by_state[cbsa_by_state['STUSPS'].str.contains(state_abbreviation, na=False, case=True)]\n",
    "        state_cbsa.plot(ax=ax, alpha= .5, edgecolor = 'black', zorder=1)\n",
    "\n",
    "        ctx.add_basemap(ax, crs = fiona.crs.from_epsg(4326))\n",
    "            \n",
    "        num_images_per_cbsa = images_per_cbsa(images_within_range, state_cbsa)\n",
    "        count = len(images_within_range)\n",
    "        \n",
    "        return(plt.show(), print('Total images: ', count), print(num_images_per_cbsa))\n",
    "            \n",
    "    else:\n",
    "        images_by_state = label_join(label)\n",
    "        airports_by_state = label_join(airports)\n",
    "        cbsa_by_state = label_join(us_cbsa)\n",
    "\n",
    "        \n",
    "        ax = states[states.STUSPS == state_abbreviation].plot(figsize=(10,10), alpha = .3, edgecolor = 'k')\n",
    "        state_airports = airports_by_state[airports_by_state.STUSPS == state_abbreviation]\n",
    "        #state_airports.plot(ax=ax, color='black', alpha = .5, zorder=2)\n",
    "\n",
    "        state_images = images_by_state[images_by_state.STUSPS == state_abbreviation]\n",
    "        state_images_timestamp = state_images[state_images['timestamp'].str.contains(year, na=False, case=True)]\n",
    "\n",
    "        state_images_timestamp.plot(ax=ax, marker='.', markersize = 5, color='red', zorder=3)\n",
    "        \n",
    "        cbsa_by_state = label_join(us_cbsa)\n",
    "        state_cbsa = cbsa_by_state[cbsa_by_state['STUSPS'].str.contains(state_abbreviation, na=False, case=True)]\n",
    "        state_cbsa.plot(ax=ax, alpha= .5, edgecolor = 'black', zorder=1)\n",
    "        \n",
    "        ctx.add_basemap(ax, crs = fiona.crs.from_epsg(4326))\n",
    "        \n",
    "        num_images_per_cbsa = images_per_cbsa(state_images_timestamp, state_cbsa)\n",
    "        count = len(state_images_timestamp)\n",
    "\n",
    "        return(plt.show(), print('Total images: ', count), print(num_images_per_cbsa))"
   ]
  },
  {
   "cell_type": "markdown",
   "metadata": {},
   "source": [
    "# Hurricane Michael:\n",
    "- Makes landfall in Florida on October 10th, 2018\n",
    "- MICHAEL COMES UP THROUGH THE GULF COAST AND PUSHES NORTH THROUGH TALLAHASSE INTO GEORGIA\n",
    "- A MAJORITY OF THE IMAGES WERE TAKEN IN OCTOBER (THE SAME MONTH IT HIT) \n",
    "- ONLY ONE FOLLOW UP IMAGE TAKEN IN NOVEMBER, 2018"
   ]
  },
  {
   "cell_type": "code",
   "execution_count": null,
   "metadata": {},
   "outputs": [],
   "source": [
    "months_with_images('FL', image_metadata_gdf, '2018')"
   ]
  },
  {
   "cell_type": "code",
   "execution_count": null,
   "metadata": {},
   "outputs": [],
   "source": [
    "months_with_images('FL', image_metadata_gdf, '2019')"
   ]
  },
  {
   "cell_type": "code",
   "execution_count": null,
   "metadata": {},
   "outputs": [],
   "source": [
    "temp = airports_in_range('FL', image_metadata_gdf, '2019')\n",
    "temp[4]"
   ]
  },
  {
   "cell_type": "code",
   "execution_count": null,
   "metadata": {
    "scrolled": false
   },
   "outputs": [],
   "source": [
    "state_plotter('FL', image_metadata_gdf, '2018', False)\n",
    "state_plotter('FL', image_metadata_gdf, '2018-10', False)\n",
    "state_plotter('FL', image_metadata_gdf, '2019', False)\n",
    "#black circles represent the given buffer radius for the airports\n",
    "#red dots are points for disaster images"
   ]
  },
  {
   "cell_type": "code",
   "execution_count": null,
   "metadata": {},
   "outputs": [],
   "source": [
    "months_with_images('FL', human_labeled_floods, '2018')"
   ]
  },
  {
   "cell_type": "code",
   "execution_count": null,
   "metadata": {},
   "outputs": [],
   "source": [
    "months_with_images('FL', human_labeled_floods, '2019')"
   ]
  },
  {
   "cell_type": "code",
   "execution_count": null,
   "metadata": {
    "scrolled": false
   },
   "outputs": [],
   "source": [
    "state_plotter('FL', human_labeled_floods, '2018', False)\n",
    "state_plotter('FL', human_labeled_floods, '2018-10', False)\n",
    "state_plotter('FL', human_labeled_floods, '2019', False)\n",
    "#black circles represent the given buffer radius for the airports\n",
    "#red dots are points for disaster images"
   ]
  },
  {
   "cell_type": "code",
   "execution_count": null,
   "metadata": {},
   "outputs": [],
   "source": [
    "months_with_images('GA', image_metadata_gdf, '2018')"
   ]
  },
  {
   "cell_type": "code",
   "execution_count": null,
   "metadata": {},
   "outputs": [],
   "source": [
    "months_with_images('GA', image_metadata_gdf, '2019')"
   ]
  },
  {
   "cell_type": "code",
   "execution_count": null,
   "metadata": {
    "scrolled": true
   },
   "outputs": [],
   "source": [
    "state_plotter('GA', image_metadata_gdf, '2018', False)\n",
    "state_plotter('GA', image_metadata_gdf, '2018-10', False)\n",
    "state_plotter('GA', image_metadata_gdf, '2019', False)\n",
    "#black circles represent the given buffer radius for the airports\n",
    "#red dots are points for disaster images"
   ]
  },
  {
   "cell_type": "code",
   "execution_count": null,
   "metadata": {},
   "outputs": [],
   "source": [
    "months_with_images('GA', human_labeled_floods, '2018')"
   ]
  },
  {
   "cell_type": "code",
   "execution_count": null,
   "metadata": {},
   "outputs": [],
   "source": [
    "months_with_images('GA', human_labeled_floods, '2019')"
   ]
  },
  {
   "cell_type": "code",
   "execution_count": null,
   "metadata": {
    "scrolled": true
   },
   "outputs": [],
   "source": [
    "state_plotter('GA', human_labeled_floods, '2018', False)\n",
    "state_plotter('GA', human_labeled_floods, '2018-10', False)\n",
    "state_plotter('GA', human_labeled_floods, '2019', False)\n",
    "#black circles represent the given buffer radius for the airports\n",
    "#red dots are points for disaster images"
   ]
  },
  {
   "cell_type": "markdown",
   "metadata": {},
   "source": [
    "# Hurricane Florence:\n",
    "- HIT CAROLINAS DIRECTLY ALONG COAST LINE (AUGUST 31, 2018-SEPTEMBER 18TH, 2018)\n",
    "- MAKES LANDFALL IN NC ON SEPTEMBER 14TH\n",
    "- PUSHES WESTWARD THROUGH THE CAROLINAS AND INTO GEORGIA\n"
   ]
  },
  {
   "cell_type": "code",
   "execution_count": null,
   "metadata": {},
   "outputs": [],
   "source": [
    "months_with_images('NC', image_metadata_gdf, '2018')"
   ]
  },
  {
   "cell_type": "code",
   "execution_count": null,
   "metadata": {},
   "outputs": [],
   "source": [
    "months_with_images('NC', image_metadata_gdf, '2019')"
   ]
  },
  {
   "cell_type": "code",
   "execution_count": null,
   "metadata": {
    "scrolled": false
   },
   "outputs": [],
   "source": [
    "print('2018: ')\n",
    "state_plotter('NC', image_metadata_gdf, '2018', False)\n",
    "print('\\nSEPTEMBER 2018: ')\n",
    "state_plotter('NC', image_metadata_gdf, '2018-09', False)\n",
    "print('\\nOCTOBER 2018: ')\n",
    "state_plotter('NC', image_metadata_gdf, '2018-10', False)\n",
    "print('\\nNOVEMBER 2018: ')\n",
    "state_plotter('NC', image_metadata_gdf, '2018-11', False)\n",
    "print('\\nDECEMBER 2018: ')\n",
    "state_plotter('NC', image_metadata_gdf, '2018-12', False)\n",
    "print('\\n2019: ')\n",
    "state_plotter('NC', image_metadata_gdf, '2019', False)\n",
    "#black circles represent the given buffer radius for the airports\n",
    "#red dots are points for disaster images"
   ]
  },
  {
   "cell_type": "code",
   "execution_count": null,
   "metadata": {},
   "outputs": [],
   "source": [
    "months_with_images('NC', human_labeled_floods, '2018')"
   ]
  },
  {
   "cell_type": "code",
   "execution_count": null,
   "metadata": {},
   "outputs": [],
   "source": [
    "months_with_images('NC', human_labeled_floods, '2019')"
   ]
  },
  {
   "cell_type": "code",
   "execution_count": null,
   "metadata": {
    "scrolled": true
   },
   "outputs": [],
   "source": [
    "print('2018: ')\n",
    "state_plotter('NC', human_labeled_floods, '2018', False)\n",
    "print('\\nSEPTEMBER 2018: ')\n",
    "state_plotter('NC', human_labeled_floods, '2018-09', False)\n",
    "print('\\nOCTOBER 2018: ')\n",
    "state_plotter('NC', human_labeled_floods, '2018-10', False)\n",
    "print('\\nNOVEMBER 2018: ')\n",
    "state_plotter('NC', human_labeled_floods, '2018-11', False)\n",
    "print('\\nDECEMBER 2018: ')\n",
    "state_plotter('NC', human_labeled_floods, '2018-12', False)\n",
    "print('\\n2019: ')\n",
    "state_plotter('NC', human_labeled_floods, '2019', False)\n",
    "#black circles represent the given buffer radius for the airports\n",
    "#red dots are points for disaster images"
   ]
  },
  {
   "cell_type": "code",
   "execution_count": null,
   "metadata": {},
   "outputs": [],
   "source": [
    "months_with_images('SC', image_metadata_gdf, '2018')"
   ]
  },
  {
   "cell_type": "code",
   "execution_count": null,
   "metadata": {},
   "outputs": [],
   "source": [
    "months_with_images('SC', image_metadata_gdf, '2019')"
   ]
  },
  {
   "cell_type": "code",
   "execution_count": null,
   "metadata": {
    "scrolled": false
   },
   "outputs": [],
   "source": [
    "print('2018: ')\n",
    "state_plotter('SC', image_metadata_gdf, '2018', False)\n",
    "\n",
    "\n",
    "\n",
    "print('\\n2019: ')\n",
    "state_plotter('SC', image_metadata_gdf, '2019', False)\n",
    "#black circles represent the given buffer radius for the airports\n",
    "#red dots are points for disaster images"
   ]
  },
  {
   "cell_type": "code",
   "execution_count": null,
   "metadata": {},
   "outputs": [],
   "source": [
    "months_with_images('SC', human_labeled_floods, '2018')"
   ]
  },
  {
   "cell_type": "code",
   "execution_count": null,
   "metadata": {},
   "outputs": [],
   "source": [
    "months_with_images('SC', human_labeled_floods, '2019')"
   ]
  },
  {
   "cell_type": "code",
   "execution_count": null,
   "metadata": {
    "scrolled": false
   },
   "outputs": [],
   "source": [
    "print('2018: ')\n",
    "state_plotter('SC', human_labeled_floods, '2018', False)\n",
    "print('\\nSEPTEMBER 2018: ')\n",
    "state_plotter('SC', human_labeled_floods, '2018-09', False)\n",
    "print('\\nOCTOBER 2018: ')\n",
    "state_plotter('SC', human_labeled_floods, '2018-10', False)\n",
    "#black circles represent the given buffer radius for the airports\n",
    "#red dots are points for disaster images"
   ]
  },
  {
   "cell_type": "code",
   "execution_count": null,
   "metadata": {},
   "outputs": [],
   "source": [
    "months_with_images('FL', image_metadata_gdf, '2018')"
   ]
  },
  {
   "cell_type": "code",
   "execution_count": null,
   "metadata": {},
   "outputs": [],
   "source": [
    "months_with_images('FL', image_metadata_gdf, '2019')"
   ]
  },
  {
   "cell_type": "code",
   "execution_count": null,
   "metadata": {
    "scrolled": false
   },
   "outputs": [],
   "source": [
    "print('2018: ')\n",
    "state_plotter('FL', image_metadata_gdf, '2018', False)\n",
    "\n",
    "print('\\nAUGUST 2018: ')\n",
    "state_plotter('FL', image_metadata_gdf, '2018-08', False)\n",
    "print('\\nSEPTEMBER 2018: ')\n",
    "state_plotter('FL', image_metadata_gdf, '2018-09', False)\n",
    "print('\\nOCTOBER 2018: ')\n",
    "state_plotter('FL', image_metadata_gdf, '2018-10', False)\n",
    "print('\\nNOVEMBER 2018: ')\n",
    "state_plotter('FL', image_metadata_gdf, '2018-11', False)\n",
    "print('\\nDECEMBER 2018: ')\n",
    "state_plotter('FL', image_metadata_gdf, '2018-12', False)\n",
    "\n",
    "print('\\n2019: ')\n",
    "state_plotter('FL', image_metadata_gdf, '2019', False)\n",
    "#black circles represent the given buffer radius for the airports\n",
    "#red dots are points for disaster images"
   ]
  },
  {
   "cell_type": "code",
   "execution_count": null,
   "metadata": {},
   "outputs": [],
   "source": [
    "months_with_images('FL', human_labeled_floods, '2018')"
   ]
  },
  {
   "cell_type": "code",
   "execution_count": null,
   "metadata": {},
   "outputs": [],
   "source": [
    "months_with_images('FL', human_labeled_floods, '2019')"
   ]
  },
  {
   "cell_type": "code",
   "execution_count": null,
   "metadata": {
    "scrolled": false
   },
   "outputs": [],
   "source": [
    "print('2018: ')\n",
    "state_plotter('FL', human_labeled_floods, '2018', False)\n",
    "\n",
    "print('\\nOCTOBER 2018: ')\n",
    "state_plotter('FL', human_labeled_floods, '2018-10', False)\n",
    "print('\\nNOVEMBER 2018: ')\n",
    "state_plotter('FL', human_labeled_floods, '2018-11', False)\n",
    "\n",
    "print('\\n2019: ')\n",
    "state_plotter('FL', human_labeled_floods, '2019', False)\n",
    "#black circles represent the given buffer radius for the airports\n",
    "#red dots are points for disaster images"
   ]
  },
  {
   "cell_type": "code",
   "execution_count": null,
   "metadata": {},
   "outputs": [],
   "source": []
  }
 ],
 "metadata": {
  "kernelspec": {
   "display_name": "Python 3",
   "language": "python",
   "name": "python3"
  },
  "language_info": {
   "codemirror_mode": {
    "name": "ipython",
    "version": 3
   },
   "file_extension": ".py",
   "mimetype": "text/x-python",
   "name": "python",
   "nbconvert_exporter": "python",
   "pygments_lexer": "ipython3",
   "version": "3.7.7"
  }
 },
 "nbformat": 4,
 "nbformat_minor": 4
}
